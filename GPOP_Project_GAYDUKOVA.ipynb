{
 "cells": [
  {
   "cell_type": "code",
   "execution_count": 1,
   "id": "4a2fc898",
   "metadata": {},
   "outputs": [],
   "source": [
    "import numpy as np\n",
    "import matplotlib.pyplot as plt"
   ]
  },
  {
   "cell_type": "markdown",
   "id": "506b12b5",
   "metadata": {},
   "source": [
    "# 1. Genetic drift"
   ]
  },
  {
   "cell_type": "code",
   "execution_count": 4,
   "id": "33ae7cfe",
   "metadata": {},
   "outputs": [],
   "source": [
    "# N- population size, p - allele A frequency, t - number of generation\n",
    "\n",
    "def WF_simulation(N, p, t):\n",
    "    \n",
    "    # allele B frequency\n",
    "    q = 1 - p\n",
    "    \n",
    "    population = np.random.choice([0, 1], size = N, p = [p, q])\n",
    "    \n",
    "    A_freq = []\n",
    "    B_freq = []\n",
    "    \n",
    "    for generation in range(t):\n",
    "        # calculate allele frequencies \n",
    "        freq_A = np.sum(population == 0) / N\n",
    "        freq_B = np.sum(population == 1) / N\n",
    "\n",
    "        A_freq.append(freq_A)\n",
    "        B_freq.append(freq_B)\n",
    "        \n",
    "        next_generation = np.random.choice(population, size=N)\n",
    "        \n",
    "        population = next_generation\n",
    "        \n",
    "    return (A_freq, B_freq)"
   ]
  },
  {
   "cell_type": "markdown",
   "id": "e69a320f",
   "metadata": {},
   "source": [
    "##  1.a trace the allele frequencies over time; "
   ]
  },
  {
   "cell_type": "code",
   "execution_count": 25,
   "id": "cf32c7ce",
   "metadata": {},
   "outputs": [],
   "source": [
    "a_freq, b_freq = WF_simulation(1000, 0.5, 10000)"
   ]
  },
  {
   "cell_type": "code",
   "execution_count": 26,
   "id": "dd038c5d",
   "metadata": {},
   "outputs": [],
   "source": [
    "def plot_frequencys(A_allele, B_allele):\n",
    "    # Plot the results\n",
    "    plt.plot(range(len(A_allele)), a_freq, label='Allele A', marker='o', linestyle='-', color='b')\n",
    "    plt.plot(range(len(B_allele)), b_freq, label='Allele B', marker='o', linestyle='-', color='r')\n",
    "    plt.title('Wright-Fisher Simulation')\n",
    "    plt.xlabel('Generations')\n",
    "    plt.ylabel('Allele Frequency')\n",
    "    plt.legend()\n",
    "    plt.show()"
   ]
  },
  {
   "cell_type": "code",
   "execution_count": 28,
   "id": "eaa27c9d",
   "metadata": {},
   "outputs": [
    {
     "data": {
      "image/png": "[encoded data removed]",
      "text/plain": [
       "<Figure size 432x288 with 1 Axes>"
      ]
     },
     "metadata": {
      "needs_background": "light"
     },
     "output_type": "display_data"
    }
   ],
   "source": [
    "plot_frequencys(a_freq, b_freq)"
   ]
  },
  {
   "cell_type": "markdown",
   "id": "1f75dad3",
   "metadata": {},
   "source": [
    "## 1.b Determine the fixation probability of allele A in dependence of p"
   ]
  },
  {
   "cell_type": "code",
   "execution_count": 57,
   "id": "3dbfecfe",
   "metadata": {},
   "outputs": [],
   "source": [
    "def find_fixation_A(freq_a):\n",
    "    flag = 0\n",
    "    if (1 in freq_a):\n",
    "        flag = 1\n",
    "        #fix_allele = 'A'\n",
    "    return flag"
   ]
  },
  {
   "cell_type": "code",
   "execution_count": 52,
   "id": "a64725c9",
   "metadata": {},
   "outputs": [
    {
     "data": {
      "text/plain": [
       "1498.87"
      ]
     },
     "execution_count": 52,
     "metadata": {},
     "output_type": "execute_result"
    }
   ],
   "source": [
    "mean_value"
   ]
  },
  {
   "cell_type": "code",
   "execution_count": 61,
   "id": "3e4567f8",
   "metadata": {},
   "outputs": [],
   "source": [
    "def fixation_a_allele (n_simulations, p_A):   \n",
    "    A_fixation = 0\n",
    "    for i in range(n_simulations):\n",
    "        a_freq, b_freq = WF_simulation(1000, p_A, 10000)\n",
    "        \n",
    "        #check if A fixed\n",
    "        if (1 in a_freq):\n",
    "            A_fixation += 1\n",
    "    A_fix_proba = round(A_fixation/n_simulations, 2)\n",
    "    return A_fix_proba"
   ]
  },
  {
   "cell_type": "code",
   "execution_count": 62,
   "id": "a55f9df9",
   "metadata": {},
   "outputs": [],
   "source": [
    "check = fixation_a_allele(100, 0.5)"
   ]
  },
  {
   "cell_type": "code",
   "execution_count": 63,
   "id": "5d91f77a",
   "metadata": {},
   "outputs": [
    {
     "data": {
      "text/plain": [
       "0.42"
      ]
     },
     "execution_count": 63,
     "metadata": {},
     "output_type": "execute_result"
    }
   ],
   "source": [
    "check"
   ]
  },
  {
   "cell_type": "code",
   "execution_count": 70,
   "id": "428442af",
   "metadata": {},
   "outputs": [
    {
     "data": {
      "text/plain": [
       "[0.1, 0.2, 0.3, 0.4, 0.5, 0.6, 0.7, 0.8, 0.9]"
      ]
     },
     "execution_count": 70,
     "metadata": {},
     "output_type": "execute_result"
    }
   ],
   "source": [
    "p_list = []\n",
    "for i in range(1, 10):\n",
    "    p_list.append(i / 10.0)\n",
    "p_list"
   ]
  },
  {
   "cell_type": "code",
   "execution_count": 65,
   "id": "3b89e689",
   "metadata": {},
   "outputs": [],
   "source": [
    "fix_a_for_diff_p = []\n",
    "for pa in p_list:\n",
    "    fix_a_for_diff_p.append(fixation_a_allele(100, pa))"
   ]
  },
  {
   "cell_type": "code",
   "execution_count": 66,
   "id": "74563647",
   "metadata": {},
   "outputs": [
    {
     "data": {
      "text/plain": [
       "[0.12, 0.23, 0.35, 0.39, 0.52, 0.66, 0.74, 0.78, 0.87]"
      ]
     },
     "execution_count": 66,
     "metadata": {},
     "output_type": "execute_result"
    }
   ],
   "source": [
    "# \n",
    "fix_a_for_diff_p"
   ]
  },
  {
   "cell_type": "code",
   "execution_count": 67,
   "id": "ffef3070",
   "metadata": {},
   "outputs": [
    {
     "data": {
      "text/plain": [
       "[0.1, 0.2, 0.3, 0.4, 0.5, 0.6, 0.7, 0.8, 0.9]"
      ]
     },
     "execution_count": 67,
     "metadata": {},
     "output_type": "execute_result"
    }
   ],
   "source": [
    "p_list"
   ]
  },
  {
   "cell_type": "code",
   "execution_count": 69,
   "id": "5ec711d6",
   "metadata": {},
   "outputs": [
    {
     "data": {
      "image/png": "[encoded data removed]",
      "text/plain": [
       "<Figure size 432x288 with 1 Axes>"
      ]
     },
     "metadata": {
      "needs_background": "light"
     },
     "output_type": "display_data"
    }
   ],
   "source": [
    "plt.plot(p_list, fix_a_for_diff_p, label='Allele A', marker='o', linestyle='-', color='b')\n",
    "plt.title('Wright-Fisher Simulation')\n",
    "plt.xlabel('Probability of A allele at time t = 0')\n",
    "plt.ylabel('Probability of fixation A allele')\n",
    "plt.legend()\n",
    "plt.show()"
   ]
  },
  {
   "cell_type": "markdown",
   "id": "3325e33e",
   "metadata": {},
   "source": [
    "## 1.c Estimate the expected fixation time (number of generations) in dependence of N (haploid individuals)"
   ]
  },
  {
   "cell_type": "code",
   "execution_count": 71,
   "id": "f18e212f",
   "metadata": {},
   "outputs": [],
   "source": [
    "def find_fixation_t(freq_list):\n",
    "    if (1 in freq_list):\n",
    "        index = freq_list.index(1)\n",
    "    else:\n",
    "        index = freq_list.index(0)\n",
    "    return index"
   ]
  },
  {
   "cell_type": "code",
   "execution_count": 95,
   "id": "c6944064",
   "metadata": {},
   "outputs": [],
   "source": [
    "N_list = [10, 50, 100, 200, 300, 400, 500, 600, 1000, 2000]"
   ]
  },
  {
   "cell_type": "code",
   "execution_count": 73,
   "id": "ddc95e90",
   "metadata": {},
   "outputs": [],
   "source": [
    "def estimate_expected_fix_time(population_size):\n",
    "    \n",
    "    # list with number of generation until fixation\n",
    "    fix_time = []\n",
    "\n",
    "    for i in range(100):\n",
    "        a_freq, b_freq = WF_simulation(population_size, 0.5, 10000)\n",
    "        fix_time.append(find_fixation_t(a_freq))\n",
    "        \n",
    "    #mean of fix_time for 100 simaulations\n",
    "    mean_fix_time = np.mean(fix_time)\n",
    "    \n",
    "    return mean_fix_time"
   ]
  },
  {
   "cell_type": "code",
   "execution_count": 74,
   "id": "abb0580c",
   "metadata": {},
   "outputs": [
    {
     "data": {
      "text/plain": [
       "1385.59"
      ]
     },
     "execution_count": 74,
     "metadata": {},
     "output_type": "execute_result"
    }
   ],
   "source": [
    "estimate_expected_fix_time(1000)"
   ]
  },
  {
   "cell_type": "code",
   "execution_count": 91,
   "id": "b7283fc6",
   "metadata": {},
   "outputs": [
    {
     "name": "stdout",
     "output_type": "stream",
     "text": [
      "For population size = 10, expected fixation time (number of generations) = 12.18 generations \n",
      "\n",
      "For population size = 50, expected fixation time (number of generations) = 67.46 generations \n",
      "\n",
      "For population size = 100, expected fixation time (number of generations) = 141.68 generations \n",
      "\n",
      "For population size = 200, expected fixation time (number of generations) = 255.94 generations \n",
      "\n",
      "For population size = 300, expected fixation time (number of generations) = 430.5 generations \n",
      "\n",
      "For population size = 400, expected fixation time (number of generations) = 504.36 generations \n",
      "\n",
      "For population size = 500, expected fixation time (number of generations) = 690.64 generations \n",
      "\n",
      "For population size = 600, expected fixation time (number of generations) = 825.17 generations \n",
      "\n",
      "For population size = 1000, expected fixation time (number of generations) = 1265.16 generations \n",
      "\n",
      "For population size = 2000, expected fixation time (number of generations) = 2654.98 generations \n",
      "\n"
     ]
    },
    {
     "ename": "ValueError",
     "evalue": "0 is not in list",
     "output_type": "error",
     "traceback": [
      "\u001b[0;31m---------------------------------------------------------------------------\u001b[0m",
      "\u001b[0;31mValueError\u001b[0m                                Traceback (most recent call last)",
      "\u001b[0;32m<ipython-input-91-99c47847f733>\u001b[0m in \u001b[0;36m<module>\u001b[0;34m\u001b[0m\n\u001b[1;32m      1\u001b[0m \u001b[0mmean_fix_time_list\u001b[0m \u001b[0;34m=\u001b[0m \u001b[0;34m[\u001b[0m\u001b[0;34m]\u001b[0m\u001b[0;34m\u001b[0m\u001b[0;34m\u001b[0m\u001b[0m\n\u001b[1;32m      2\u001b[0m \u001b[0;32mfor\u001b[0m \u001b[0mpop_size\u001b[0m \u001b[0;32min\u001b[0m \u001b[0mN_list\u001b[0m\u001b[0;34m:\u001b[0m\u001b[0;34m\u001b[0m\u001b[0;34m\u001b[0m\u001b[0m\n\u001b[0;32m----> 3\u001b[0;31m     \u001b[0mx\u001b[0m \u001b[0;34m=\u001b[0m \u001b[0mestimate_expected_fix_time\u001b[0m\u001b[0;34m(\u001b[0m\u001b[0mpop_size\u001b[0m\u001b[0;34m)\u001b[0m\u001b[0;34m\u001b[0m\u001b[0;34m\u001b[0m\u001b[0m\n\u001b[0m\u001b[1;32m      4\u001b[0m     \u001b[0mmean_fix_time_list\u001b[0m\u001b[0;34m.\u001b[0m\u001b[0mappend\u001b[0m\u001b[0;34m(\u001b[0m\u001b[0mx\u001b[0m\u001b[0;34m)\u001b[0m\u001b[0;34m\u001b[0m\u001b[0;34m\u001b[0m\u001b[0m\n\u001b[1;32m      5\u001b[0m     \u001b[0mprint\u001b[0m\u001b[0;34m(\u001b[0m\u001b[0;34mf'For population size = {pop_size}, expected fixation time (number of generations) = {x} generations \\n'\u001b[0m\u001b[0;34m)\u001b[0m\u001b[0;34m\u001b[0m\u001b[0;34m\u001b[0m\u001b[0m\n",
      "\u001b[0;32m<ipython-input-73-56c5bea9af6f>\u001b[0m in \u001b[0;36mestimate_expected_fix_time\u001b[0;34m(population_size)\u001b[0m\n\u001b[1;32m      6\u001b[0m     \u001b[0;32mfor\u001b[0m \u001b[0mi\u001b[0m \u001b[0;32min\u001b[0m \u001b[0mrange\u001b[0m\u001b[0;34m(\u001b[0m\u001b[0;36m100\u001b[0m\u001b[0;34m)\u001b[0m\u001b[0;34m:\u001b[0m\u001b[0;34m\u001b[0m\u001b[0;34m\u001b[0m\u001b[0m\n\u001b[1;32m      7\u001b[0m         \u001b[0ma_freq\u001b[0m\u001b[0;34m,\u001b[0m \u001b[0mb_freq\u001b[0m \u001b[0;34m=\u001b[0m \u001b[0mWF_simulation\u001b[0m\u001b[0;34m(\u001b[0m\u001b[0mpopulation_size\u001b[0m\u001b[0;34m,\u001b[0m \u001b[0;36m0.5\u001b[0m\u001b[0;34m,\u001b[0m \u001b[0;36m10000\u001b[0m\u001b[0;34m)\u001b[0m\u001b[0;34m\u001b[0m\u001b[0;34m\u001b[0m\u001b[0m\n\u001b[0;32m----> 8\u001b[0;31m         \u001b[0mfix_time\u001b[0m\u001b[0;34m.\u001b[0m\u001b[0mappend\u001b[0m\u001b[0;34m(\u001b[0m\u001b[0mfind_fixation_t\u001b[0m\u001b[0;34m(\u001b[0m\u001b[0ma_freq\u001b[0m\u001b[0;34m)\u001b[0m\u001b[0;34m)\u001b[0m\u001b[0;34m\u001b[0m\u001b[0;34m\u001b[0m\u001b[0m\n\u001b[0m\u001b[1;32m      9\u001b[0m \u001b[0;34m\u001b[0m\u001b[0m\n\u001b[1;32m     10\u001b[0m     \u001b[0;31m#mean of fix_time for 100 simaulations\u001b[0m\u001b[0;34m\u001b[0m\u001b[0;34m\u001b[0m\u001b[0;34m\u001b[0m\u001b[0m\n",
      "\u001b[0;32m<ipython-input-71-1bad5d8967fc>\u001b[0m in \u001b[0;36mfind_fixation_t\u001b[0;34m(freq_list)\u001b[0m\n\u001b[1;32m      3\u001b[0m         \u001b[0mindex\u001b[0m \u001b[0;34m=\u001b[0m \u001b[0mfreq_list\u001b[0m\u001b[0;34m.\u001b[0m\u001b[0mindex\u001b[0m\u001b[0;34m(\u001b[0m\u001b[0;36m1\u001b[0m\u001b[0;34m)\u001b[0m\u001b[0;34m\u001b[0m\u001b[0;34m\u001b[0m\u001b[0m\n\u001b[1;32m      4\u001b[0m     \u001b[0;32melse\u001b[0m\u001b[0;34m:\u001b[0m\u001b[0;34m\u001b[0m\u001b[0;34m\u001b[0m\u001b[0m\n\u001b[0;32m----> 5\u001b[0;31m         \u001b[0mindex\u001b[0m \u001b[0;34m=\u001b[0m \u001b[0mfreq_list\u001b[0m\u001b[0;34m.\u001b[0m\u001b[0mindex\u001b[0m\u001b[0;34m(\u001b[0m\u001b[0;36m0\u001b[0m\u001b[0;34m)\u001b[0m\u001b[0;34m\u001b[0m\u001b[0;34m\u001b[0m\u001b[0m\n\u001b[0m\u001b[1;32m      6\u001b[0m     \u001b[0;32mreturn\u001b[0m \u001b[0mindex\u001b[0m\u001b[0;34m\u001b[0m\u001b[0;34m\u001b[0m\u001b[0m\n",
      "\u001b[0;31mValueError\u001b[0m: 0 is not in list"
     ]
    }
   ],
   "source": [
    "mean_fix_time_list = []\n",
    "for pop_size in N_list:\n",
    "    x = estimate_expected_fix_time(pop_size)\n",
    "    mean_fix_time_list.append(x)\n",
    "    print(f'For population size = {pop_size}, expected fixation time (number of generations) = {x} generations \\n')"
   ]
  },
  {
   "cell_type": "code",
   "execution_count": 93,
   "id": "acd826d7",
   "metadata": {},
   "outputs": [
    {
     "data": {
      "text/plain": [
       "[12.18, 67.46, 141.68, 255.94, 430.5, 504.36, 690.64, 825.17, 1265.16, 2654.98]"
      ]
     },
     "execution_count": 93,
     "metadata": {},
     "output_type": "execute_result"
    }
   ],
   "source": [
    "mean_fix_time_list"
   ]
  },
  {
   "cell_type": "code",
   "execution_count": 96,
   "id": "cb30545d",
   "metadata": {},
   "outputs": [
    {
     "data": {
      "text/plain": [
       "[10, 50, 100, 200, 300, 400, 500, 600, 1000, 2000]"
      ]
     },
     "execution_count": 96,
     "metadata": {},
     "output_type": "execute_result"
    }
   ],
   "source": [
    "N_list"
   ]
  },
  {
   "cell_type": "code",
   "execution_count": 97,
   "id": "c5d16e3c",
   "metadata": {},
   "outputs": [
    {
     "data": {
      "image/png": "[encoded data removed]",
      "text/plain": [
       "<Figure size 432x288 with 1 Axes>"
      ]
     },
     "metadata": {},
     "output_type": "display_data"
    }
   ],
   "source": [
    "plt.plot(N_list, mean_fix_time_list, label='Allele A', marker='o', linestyle='-', color='b')\n",
    "plt.title('Wright-Fisher Simulation')\n",
    "plt.xlabel('Population size')\n",
    "plt.ylabel('Fixation time (number of generations)')\n",
    "plt.legend()\n",
    "plt.show()"
   ]
  },
  {
   "cell_type": "code",
   "execution_count": 108,
   "id": "ad4a34fd",
   "metadata": {},
   "outputs": [
    {
     "data": {
      "image/png": "[encoded data removed]",
      "text/plain": [
       "<Figure size 720x720 with 1 Axes>"
      ]
     },
     "metadata": {},
     "output_type": "display_data"
    }
   ],
   "source": [
    "import seaborn as sns\n",
    "\n",
    "\n",
    "# Set Seaborn style\n",
    "sns.set(style=\"white\")\n",
    "\n",
    "# Plot with Seaborn\n",
    "plt.figure(figsize=(10, 10))\n",
    "\n",
    "# Use Seaborn's color palette for better aesthetics\n",
    "palette = sns.color_palette(\"husl\", 2)\n",
    "\n",
    "sns.lineplot(x=N_list, y=mean_fix_time_list, marker='o', color=palette[0], label='generations')\n",
    "\n",
    "plt.title('Wright-Fisher Simulation', fontsize=16)\n",
    "plt.xlabel('Population Size', fontsize=16)\n",
    "plt.ylabel('Fixation Time (Number of Generations)', fontsize=16)\n",
    "\n",
    "plt.xticks(N_list)\n",
    "plt.yticks(mean_fix_time_list)\n",
    "\n",
    "plt.legend(fontsize=8)\n",
    "plt.show()"
   ]
  },
  {
   "cell_type": "markdown",
   "id": "f7b1ed2f",
   "metadata": {},
   "source": [
    "# 2. Coalescent model"
   ]
  },
  {
   "cell_type": "code",
   "execution_count": 118,
   "id": "904e8fe5",
   "metadata": {},
   "outputs": [
    {
     "data": {
      "text/plain": [
       "100"
      ]
     },
     "execution_count": 118,
     "metadata": {},
     "output_type": "execute_result"
    }
   ],
   "source": [
    "len(set(population))"
   ]
  },
  {
   "cell_type": "code",
   "execution_count": 224,
   "id": "b14f1e84",
   "metadata": {},
   "outputs": [],
   "source": [
    "def simulate_populations_for_CE(N):    \n",
    "    #initialisation \n",
    "    population = np.array([[i, -1] for i in range(N)])\n",
    "    populations = []\n",
    "    populations.append(population)\n",
    "\n",
    "    flag = 0\n",
    "    # stop when all common by descent\n",
    "    while flag == 0:\n",
    "\n",
    "        next_generation = np.zeros((N, 2))\n",
    "        population = populations[-1]\n",
    "        for individual in next_generation:\n",
    "            parents = np.random.choice(N, size=N)\n",
    "            for parent in parents:\n",
    "                individual[0] = population[parent][0]\n",
    "                individual[1] = parent\n",
    "\n",
    "        populations.append(next_generation)\n",
    "        invividuals = [invividual[0] for invividual in next_generation]\n",
    "\n",
    "        if len(set(invividuals)) == 1:\n",
    "            flag = 1\n",
    "        \n",
    "    return populations"
   ]
  },
  {
   "cell_type": "code",
   "execution_count": 229,
   "id": "cac11fbc",
   "metadata": {},
   "outputs": [],
   "source": [
    "check = simulate_populations_for_CE(100)"
   ]
  },
  {
   "cell_type": "code",
   "execution_count": 214,
   "id": "7b1b07aa",
   "metadata": {},
   "outputs": [
    {
     "name": "stdout",
     "output_type": "stream",
     "text": [
      "Number of generations N = 199\n"
     ]
    }
   ],
   "source": [
    "print (f'Number of generations N = {len(populations)}')"
   ]
  },
  {
   "cell_type": "code",
   "execution_count": 211,
   "id": "cdc4184b",
   "metadata": {},
   "outputs": [],
   "source": [
    "# number of samples\n",
    "n = 2\n",
    "def find_coalescent_event(n):\n",
    "    check_parents_samples = np.random.choice(100, size=n)\n",
    "    t = 1\n",
    "    flag = 0\n",
    "    #print (f'check_parents_samples = {check_parents_samples} \\n') \n",
    "    while flag == 0:\n",
    "        population = populations[-t]\n",
    "        parents = []\n",
    "        for sample in check_parents_samples:\n",
    "            #print (sample)\n",
    "            who_was_parent = population[int(sample)][1]\n",
    "            if  who_was_parent not in parents:\n",
    "                parents.append(int(who_was_parent))\n",
    "        #print (f't - {t} generation, parents = {parents} \\n')\n",
    "        if len(parents) == 1:\n",
    "            flag = 1\n",
    "            #print (f'Coalescence event on generation t - {t}')\n",
    "        else : \n",
    "            t += 1\n",
    "            check_parents_samples = parents\n",
    "    return t"
   ]
  },
  {
   "cell_type": "code",
   "execution_count": 213,
   "id": "ada67fee",
   "metadata": {},
   "outputs": [
    {
     "data": {
      "text/plain": [
       "25"
      ]
     },
     "execution_count": 213,
     "metadata": {},
     "output_type": "execute_result"
    }
   ],
   "source": [
    "find_coalescent_event(2)"
   ]
  },
  {
   "cell_type": "code",
   "execution_count": 239,
   "id": "a265f575",
   "metadata": {},
   "outputs": [
    {
     "name": "stdout",
     "output_type": "stream",
     "text": [
      "\n",
      "Number of generations N = 95\n",
      "\n",
      "For 2 samples, mean number of generations to coalescent event = 60 +- 28\n",
      "For 3 samples, mean number of generations to coalescent event = 69 +- 20\n",
      "For 4 samples, mean number of generations to coalescent event = 75 +- 15\n",
      "For 5 samples, mean number of generations to coalescent event = 78 +- 7\n",
      "\n",
      "Number of generations N = 207\n",
      "\n",
      "For 2 samples, mean number of generations to coalescent event = 41 +- 23\n",
      "For 3 samples, mean number of generations to coalescent event = 53 +- 23\n",
      "For 4 samples, mean number of generations to coalescent event = 60 +- 20\n",
      "For 5 samples, mean number of generations to coalescent event = 61 +- 20\n",
      "\n",
      "Number of generations N = 82\n",
      "\n",
      "For 2 samples, mean number of generations to coalescent event = 52 +- 27\n",
      "For 3 samples, mean number of generations to coalescent event = 69 +- 17\n",
      "For 4 samples, mean number of generations to coalescent event = 71 +- 13\n",
      "For 5 samples, mean number of generations to coalescent event = 75 +- 8\n",
      "\n",
      "Number of generations N = 148\n",
      "\n",
      "For 2 samples, mean number of generations to coalescent event = 50 +- 20\n",
      "For 3 samples, mean number of generations to coalescent event = 59 +- 12\n",
      "For 4 samples, mean number of generations to coalescent event = 62 +- 7\n",
      "For 5 samples, mean number of generations to coalescent event = 63 +- 7\n",
      "\n",
      "Number of generations N = 66\n",
      "\n",
      "For 2 samples, mean number of generations to coalescent event = 36 +- 13\n",
      "For 3 samples, mean number of generations to coalescent event = 42 +- 10\n",
      "For 4 samples, mean number of generations to coalescent event = 45 +- 7\n",
      "For 5 samples, mean number of generations to coalescent event = 47 +- 4\n"
     ]
    }
   ],
   "source": [
    "for i in range (5):\n",
    "    populations = simulate_populations_for_CE(100)\n",
    "    print (f'\\nNumber of generations N = {len(populations)}\\n')\n",
    "    number_of_samples = [2, 3, 4, 5]\n",
    "\n",
    "    for n in number_of_samples:\n",
    "        #print (f'Number of random samples = {n}\\n')\n",
    "        coalescent_event_times = []\n",
    "        for i in range(100):\n",
    "            coalescent_event_times.append(find_coalescent_event(n))\n",
    "        mean_fix_time = round(np.mean(coalescent_event_times))\n",
    "        variance_fix_time = round(np.std(coalescent_event_times))\n",
    "        print (f'For {n} samples, mean number of generations to coalescent event = {mean_fix_time} +- {variance_fix_time}')"
   ]
  },
  {
   "cell_type": "code",
   "execution_count": null,
   "id": "d9614a97",
   "metadata": {},
   "outputs": [],
   "source": []
  }
 ],
 "metadata": {
  "kernelspec": {
   "display_name": "Python 3",
   "language": "python",
   "name": "python3"
  },
  "language_info": {
   "codemirror_mode": {
    "name": "ipython",
    "version": 3
   },
   "file_extension": ".py",
   "mimetype": "text/x-python",
   "name": "python",
   "nbconvert_exporter": "python",
   "pygments_lexer": "ipython3",
   "version": "3.8.8"
  }
 },
 "nbformat": 4,
 "nbformat_minor": 5
}
